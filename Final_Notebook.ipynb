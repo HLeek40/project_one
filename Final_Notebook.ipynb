{
 "cells": [
  {
   "cell_type": "code",
   "execution_count": 43,
   "metadata": {},
   "outputs": [],
   "source": [
    "import pandas as pd\n",
    "import csv as cv\n",
    "import numpy as np\n",
    "import matplotlib.pyplot as plt"
   ]
  },
  {
   "cell_type": "code",
   "execution_count": 44,
   "metadata": {},
   "outputs": [
    {
     "data": {
      "text/html": [
       "<div>\n",
       "<style scoped>\n",
       "    .dataframe tbody tr th:only-of-type {\n",
       "        vertical-align: middle;\n",
       "    }\n",
       "\n",
       "    .dataframe tbody tr th {\n",
       "        vertical-align: top;\n",
       "    }\n",
       "\n",
       "    .dataframe thead th {\n",
       "        text-align: right;\n",
       "    }\n",
       "</style>\n",
       "<table border=\"1\" class=\"dataframe\">\n",
       "  <thead>\n",
       "    <tr style=\"text-align: right;\">\n",
       "      <th></th>\n",
       "      <th>id</th>\n",
       "      <th>VacantLot</th>\n",
       "      <th>Condominium</th>\n",
       "      <th>NbrOfUnits</th>\n",
       "      <th>NbrOfApts</th>\n",
       "      <th>ResSalePrice</th>\n",
       "      <th>VacBldgYear</th>\n",
       "      <th>ZIP</th>\n",
       "    </tr>\n",
       "  </thead>\n",
       "  <tbody>\n",
       "    <tr>\n",
       "      <th>0</th>\n",
       "      <td>1_34_0</td>\n",
       "      <td>False</td>\n",
       "      <td>False</td>\n",
       "      <td>0</td>\n",
       "      <td>0</td>\n",
       "      <td>5,000.00</td>\n",
       "      <td>0</td>\n",
       "      <td>63102</td>\n",
       "    </tr>\n",
       "    <tr>\n",
       "      <th>1</th>\n",
       "      <td>18_30_0</td>\n",
       "      <td>True</td>\n",
       "      <td>False</td>\n",
       "      <td>0</td>\n",
       "      <td>0</td>\n",
       "      <td>85,000.00</td>\n",
       "      <td>0</td>\n",
       "      <td>63102</td>\n",
       "    </tr>\n",
       "    <tr>\n",
       "      <th>2</th>\n",
       "      <td>27_70_0</td>\n",
       "      <td>False</td>\n",
       "      <td>False</td>\n",
       "      <td>0</td>\n",
       "      <td>1</td>\n",
       "      <td>210,000.00</td>\n",
       "      <td>0</td>\n",
       "      <td>63102</td>\n",
       "    </tr>\n",
       "    <tr>\n",
       "      <th>3</th>\n",
       "      <td>44.04_50_0</td>\n",
       "      <td>True</td>\n",
       "      <td>False</td>\n",
       "      <td>0</td>\n",
       "      <td>0</td>\n",
       "      <td>94,955.00</td>\n",
       "      <td>2004</td>\n",
       "      <td>63102</td>\n",
       "    </tr>\n",
       "    <tr>\n",
       "      <th>4</th>\n",
       "      <td>49_80_0</td>\n",
       "      <td>False</td>\n",
       "      <td>False</td>\n",
       "      <td>0</td>\n",
       "      <td>0</td>\n",
       "      <td>40,000.00</td>\n",
       "      <td>0</td>\n",
       "      <td>63102</td>\n",
       "    </tr>\n",
       "  </tbody>\n",
       "</table>\n",
       "</div>"
      ],
      "text/plain": [
       "           id  VacantLot  Condominium  NbrOfUnits  NbrOfApts ResSalePrice  \\\n",
       "0      1_34_0      False        False           0          0     5,000.00   \n",
       "1     18_30_0       True        False           0          0    85,000.00   \n",
       "2     27_70_0      False        False           0          1   210,000.00   \n",
       "3  44.04_50_0       True        False           0          0    94,955.00   \n",
       "4     49_80_0      False        False           0          0    40,000.00   \n",
       "\n",
       "   VacBldgYear    ZIP  \n",
       "0            0  63102  \n",
       "1            0  63102  \n",
       "2            0  63102  \n",
       "3         2004  63102  \n",
       "4            0  63102  "
      ]
     },
     "execution_count": 44,
     "metadata": {},
     "output_type": "execute_result"
    }
   ],
   "source": [
    "prcl_df = pd.read_csv('Prcl.csv')\n",
    "prcl_df.head()"
   ]
  },
  {
   "cell_type": "code",
   "execution_count": 45,
   "metadata": {},
   "outputs": [
    {
     "data": {
      "text/html": [
       "<div>\n",
       "<style scoped>\n",
       "    .dataframe tbody tr th:only-of-type {\n",
       "        vertical-align: middle;\n",
       "    }\n",
       "\n",
       "    .dataframe tbody tr th {\n",
       "        vertical-align: top;\n",
       "    }\n",
       "\n",
       "    .dataframe thead th {\n",
       "        text-align: right;\n",
       "    }\n",
       "</style>\n",
       "<table border=\"1\" class=\"dataframe\">\n",
       "  <thead>\n",
       "    <tr style=\"text-align: right;\">\n",
       "      <th></th>\n",
       "      <th>id</th>\n",
       "      <th>BillYear</th>\n",
       "      <th>TaxAmt</th>\n",
       "      <th>TotalValue</th>\n",
       "      <th>TaxBal</th>\n",
       "      <th>ResTaxAmt</th>\n",
       "    </tr>\n",
       "  </thead>\n",
       "  <tbody>\n",
       "    <tr>\n",
       "      <th>0</th>\n",
       "      <td>68_20_7</td>\n",
       "      <td>2015</td>\n",
       "      <td>4386.24</td>\n",
       "      <td>17210</td>\n",
       "      <td>0.0</td>\n",
       "      <td>1306.20</td>\n",
       "    </tr>\n",
       "    <tr>\n",
       "      <th>1</th>\n",
       "      <td>68_20_7</td>\n",
       "      <td>2016</td>\n",
       "      <td>4768.46</td>\n",
       "      <td>17210</td>\n",
       "      <td>0.0</td>\n",
       "      <td>1442.51</td>\n",
       "    </tr>\n",
       "    <tr>\n",
       "      <th>2</th>\n",
       "      <td>68_20_7</td>\n",
       "      <td>2017</td>\n",
       "      <td>4719.38</td>\n",
       "      <td>17210</td>\n",
       "      <td>0.0</td>\n",
       "      <td>1424.23</td>\n",
       "    </tr>\n",
       "    <tr>\n",
       "      <th>3</th>\n",
       "      <td>68_20_7</td>\n",
       "      <td>2018</td>\n",
       "      <td>4786.11</td>\n",
       "      <td>17210</td>\n",
       "      <td>0.0</td>\n",
       "      <td>1449.08</td>\n",
       "    </tr>\n",
       "    <tr>\n",
       "      <th>4</th>\n",
       "      <td>97_10_0</td>\n",
       "      <td>2015</td>\n",
       "      <td>3227.48</td>\n",
       "      <td>36920</td>\n",
       "      <td>0.0</td>\n",
       "      <td>2802.15</td>\n",
       "    </tr>\n",
       "  </tbody>\n",
       "</table>\n",
       "</div>"
      ],
      "text/plain": [
       "        id  BillYear   TaxAmt  TotalValue  TaxBal  ResTaxAmt\n",
       "0  68_20_7      2015  4386.24       17210     0.0    1306.20\n",
       "1  68_20_7      2016  4768.46       17210     0.0    1442.51\n",
       "2  68_20_7      2017  4719.38       17210     0.0    1424.23\n",
       "3  68_20_7      2018  4786.11       17210     0.0    1449.08\n",
       "4  97_10_0      2015  3227.48       36920     0.0    2802.15"
      ]
     },
     "execution_count": 45,
     "metadata": {},
     "output_type": "execute_result"
    }
   ],
   "source": [
    "new_df = pd.read_csv('residential_data.csv')\n",
    "new_df.head()"
   ]
  },
  {
   "cell_type": "code",
   "execution_count": 46,
   "metadata": {},
   "outputs": [
    {
     "data": {
      "text/html": [
       "<div>\n",
       "<style scoped>\n",
       "    .dataframe tbody tr th:only-of-type {\n",
       "        vertical-align: middle;\n",
       "    }\n",
       "\n",
       "    .dataframe tbody tr th {\n",
       "        vertical-align: top;\n",
       "    }\n",
       "\n",
       "    .dataframe thead th {\n",
       "        text-align: right;\n",
       "    }\n",
       "</style>\n",
       "<table border=\"1\" class=\"dataframe\">\n",
       "  <thead>\n",
       "    <tr style=\"text-align: right;\">\n",
       "      <th></th>\n",
       "      <th>id</th>\n",
       "      <th>VacantLot</th>\n",
       "      <th>Condominium</th>\n",
       "      <th>NbrOfUnits</th>\n",
       "      <th>NbrOfApts</th>\n",
       "      <th>ResSalePrice</th>\n",
       "      <th>VacBldgYear</th>\n",
       "      <th>ZIP</th>\n",
       "      <th>BillYear</th>\n",
       "      <th>TaxAmt</th>\n",
       "      <th>TotalValue</th>\n",
       "      <th>TaxBal</th>\n",
       "      <th>ResTaxAmt</th>\n",
       "    </tr>\n",
       "  </thead>\n",
       "  <tbody>\n",
       "    <tr>\n",
       "      <th>0</th>\n",
       "      <td>99_31_0</td>\n",
       "      <td>False</td>\n",
       "      <td>True</td>\n",
       "      <td>1</td>\n",
       "      <td>0</td>\n",
       "      <td>106,000.00</td>\n",
       "      <td>0</td>\n",
       "      <td>63102</td>\n",
       "      <td>2015</td>\n",
       "      <td>1906.60</td>\n",
       "      <td>24170</td>\n",
       "      <td>0.0</td>\n",
       "      <td>1834.45</td>\n",
       "    </tr>\n",
       "    <tr>\n",
       "      <th>1</th>\n",
       "      <td>99_31_0</td>\n",
       "      <td>False</td>\n",
       "      <td>True</td>\n",
       "      <td>1</td>\n",
       "      <td>0</td>\n",
       "      <td>106,000.00</td>\n",
       "      <td>0</td>\n",
       "      <td>63102</td>\n",
       "      <td>2016</td>\n",
       "      <td>2100.97</td>\n",
       "      <td>24170</td>\n",
       "      <td>0.0</td>\n",
       "      <td>2025.88</td>\n",
       "    </tr>\n",
       "    <tr>\n",
       "      <th>2</th>\n",
       "      <td>99_31_0</td>\n",
       "      <td>False</td>\n",
       "      <td>True</td>\n",
       "      <td>1</td>\n",
       "      <td>0</td>\n",
       "      <td>106,000.00</td>\n",
       "      <td>0</td>\n",
       "      <td>63102</td>\n",
       "      <td>2017</td>\n",
       "      <td>2201.09</td>\n",
       "      <td>25690</td>\n",
       "      <td>0.0</td>\n",
       "      <td>2126.00</td>\n",
       "    </tr>\n",
       "    <tr>\n",
       "      <th>3</th>\n",
       "      <td>99_31_0</td>\n",
       "      <td>False</td>\n",
       "      <td>True</td>\n",
       "      <td>1</td>\n",
       "      <td>0</td>\n",
       "      <td>106,000.00</td>\n",
       "      <td>0</td>\n",
       "      <td>63102</td>\n",
       "      <td>2018</td>\n",
       "      <td>2238.19</td>\n",
       "      <td>25690</td>\n",
       "      <td>0.0</td>\n",
       "      <td>2163.10</td>\n",
       "    </tr>\n",
       "    <tr>\n",
       "      <th>4</th>\n",
       "      <td>99_36_0</td>\n",
       "      <td>False</td>\n",
       "      <td>True</td>\n",
       "      <td>1</td>\n",
       "      <td>0</td>\n",
       "      <td>163,000.00</td>\n",
       "      <td>0</td>\n",
       "      <td>63102</td>\n",
       "      <td>2015</td>\n",
       "      <td>2198.49</td>\n",
       "      <td>27870</td>\n",
       "      <td>0.0</td>\n",
       "      <td>2115.28</td>\n",
       "    </tr>\n",
       "  </tbody>\n",
       "</table>\n",
       "</div>"
      ],
      "text/plain": [
       "        id  VacantLot  Condominium  NbrOfUnits  NbrOfApts ResSalePrice  \\\n",
       "0  99_31_0      False         True           1          0   106,000.00   \n",
       "1  99_31_0      False         True           1          0   106,000.00   \n",
       "2  99_31_0      False         True           1          0   106,000.00   \n",
       "3  99_31_0      False         True           1          0   106,000.00   \n",
       "4  99_36_0      False         True           1          0   163,000.00   \n",
       "\n",
       "   VacBldgYear    ZIP  BillYear   TaxAmt  TotalValue  TaxBal  ResTaxAmt  \n",
       "0            0  63102      2015  1906.60       24170     0.0    1834.45  \n",
       "1            0  63102      2016  2100.97       24170     0.0    2025.88  \n",
       "2            0  63102      2017  2201.09       25690     0.0    2126.00  \n",
       "3            0  63102      2018  2238.19       25690     0.0    2163.10  \n",
       "4            0  63102      2015  2198.49       27870     0.0    2115.28  "
      ]
     },
     "execution_count": 46,
     "metadata": {},
     "output_type": "execute_result"
    }
   ],
   "source": [
    "merg_df = pd.merge(prcl_df, new_df,  how='inner', on = ['id'])\n",
    "merg_df.head()"
   ]
  },
  {
   "cell_type": "code",
   "execution_count": 47,
   "metadata": {},
   "outputs": [
    {
     "data": {
      "text/plain": [
       "243573"
      ]
     },
     "execution_count": 47,
     "metadata": {},
     "output_type": "execute_result"
    }
   ],
   "source": [
    "len(merg_df.index)"
   ]
  },
  {
   "cell_type": "code",
   "execution_count": 48,
   "metadata": {},
   "outputs": [
    {
     "name": "stdout",
     "output_type": "stream",
     "text": [
      "counts 61313 and 61055 and 60743 and 60462\n"
     ]
    }
   ],
   "source": [
    "df_2018 = merg_df.loc[merg_df['BillYear']==2018]\n",
    "df_2017 = merg_df.loc[merg_df['BillYear']==2017]\n",
    "df_2016 = merg_df.loc[merg_df['BillYear']==2016]\n",
    "df_2015 = merg_df.loc[merg_df['BillYear']==2015]\n",
    "\n",
    "print(f'counts {len(df_2018.index)} and {len(df_2017.index)} and {len(df_2016.index)} and {len(df_2015.index)}')"
   ]
  },
  {
   "cell_type": "code",
   "execution_count": 49,
   "metadata": {},
   "outputs": [],
   "source": [
    "grp_df_2018 = df_2018.groupby([\"ZIP\"])\n",
    "vac_cnt_2018 = grp_df_2018.apply(lambda x: (x != False).sum())['VacantLot']\n",
    "\n",
    "grp_df_2017 = df_2017.groupby([\"ZIP\"])\n",
    "vac_cnt_2017 = grp_df_2017.apply(lambda x: (x != False).sum())['VacantLot']\n",
    "\n",
    "grp_df_2016 = df_2016.groupby([\"ZIP\"])\n",
    "vac_cnt_2016 = grp_df_2016.apply(lambda x: (x != False).sum())['VacantLot']\n",
    "\n",
    "grp_df_2015 = df_2015.groupby([\"ZIP\"])\n",
    "vac_cnt_2015 = grp_df_2015.apply(lambda x: (x != False).sum())['VacantLot']"
   ]
  },
  {
   "cell_type": "code",
   "execution_count": 50,
   "metadata": {},
   "outputs": [
    {
     "data": {
      "image/png": "[encoded data removed]",
      "text/plain": [
       "<Figure size 432x288 with 1 Axes>"
      ]
     },
     "metadata": {
      "needs_background": "light"
     },
     "output_type": "display_data"
    }
   ],
   "source": [
    "# x axis\n",
    "uniq_zip = merg_df['ZIP'].unique()\n",
    "x = [a for a in range(len(uniq_zip))]\n",
    "plt.scatter(x, vac_cnt_2018, marker=\"o\", facecolors=\"blue\", edgecolors=\"black\", s=20, alpha=0.5, label=\"2018\")\n",
    "plt.scatter(x, vac_cnt_2017, marker=\"o\", facecolors=\"red\", edgecolors=\"black\", s=20, alpha=0.5, label=\"2017\")\n",
    "plt.scatter(x, vac_cnt_2016, marker=\"o\", facecolors=\"green\", edgecolors=\"black\", s=20, alpha=0.5, label=\"2016\")\n",
    "plt.scatter(x, vac_cnt_2015, marker=\"o\", facecolors=\"yellow\", edgecolors=\"black\", s=20, alpha=0.5, label=\"2015\")\n",
    "plt.xticks(x, uniq_zip)\n",
    "\n",
    "plt.xticks(x, rotation=270)\n",
    "plt.xlabel(\"Zip Codes\")\n",
    "plt.ylabel(\"Number of Vacant Buildings\")\n",
    "plt.title(\"Vacant Property Buildings by Zip Code\")\n",
    "plt.legend(loc='best')\n",
    "\n",
    "plt.show()"
   ]
  },
  {
   "cell_type": "code",
   "execution_count": 51,
   "metadata": {},
   "outputs": [],
   "source": [
    "totVal_df_2018 = grp_df_2018['TotalValue'].mean()\n",
    "totVal_df_2017 = grp_df_2017['TotalValue'].mean()\n",
    "totVal_df_2016 = grp_df_2016['TotalValue'].mean()\n",
    "totVal_df_2015 = grp_df_2015['TotalValue'].mean()\n",
    "\n"
   ]
  },
  {
   "cell_type": "code",
   "execution_count": 52,
   "metadata": {},
   "outputs": [
    {
     "data": {
      "image/png": "[encoded data removed]",
      "text/plain": [
       "<Figure size 432x288 with 1 Axes>"
      ]
     },
     "metadata": {
      "needs_background": "light"
     },
     "output_type": "display_data"
    }
   ],
   "source": [
    "plt.scatter(x, totVal_df_2018, marker=\"o\", facecolors=\"blue\", edgecolors=\"black\", s=20, alpha=0.5, label=\"2018\")\n",
    "plt.scatter(x, totVal_df_2017, marker=\"o\", facecolors=\"red\", edgecolors=\"black\", s=20, alpha=0.5, label=\"2017\")\n",
    "plt.scatter(x, totVal_df_2016, marker=\"o\", facecolors=\"green\", edgecolors=\"black\", s=20, alpha=0.5, label=\"2016\")\n",
    "plt.scatter(x, totVal_df_2015, marker=\"o\", facecolors=\"yellow\", edgecolors=\"black\", s=20, alpha=0.5, label=\"2015\")\n",
    "plt.xticks(x, uniq_zip)\n",
    "\n",
    "plt.xticks(x, rotation=270)\n",
    "plt.xlabel(\"Zip Codes\")\n",
    "plt.ylabel(\"Property Tax Values ($)\")\n",
    "plt.title(\"Property Tax Value by Zip Code\")\n",
    "plt.legend(loc='best')\n",
    "plt.ylim(0, 100000)\n",
    "     \n",
    "plt.show()"
   ]
  },
  {
   "cell_type": "code",
   "execution_count": 57,
   "metadata": {},
   "outputs": [
    {
     "data": {
      "text/plain": [
       "<BarContainer object of 29 artists>"
      ]
     },
     "execution_count": 57,
     "metadata": {},
     "output_type": "execute_result"
    },
    {
     "data": {
      "image/png": "[encoded data removed]",
      "text/plain": [
       "<Figure size 432x288 with 1 Axes>"
      ]
     },
     "metadata": {
      "needs_background": "light"
     },
     "output_type": "display_data"
    }
   ],
   "source": [
    "vac_per_chg = (vac_cnt_2018-vac_cnt_2015)/vac_cnt_2015*100\n",
    "vac_per_chg = vac_per_chg.fillna(0)\n",
    "\n",
    "plt.xticks(x, uniq_zip)\n",
    "plt.xticks(x, rotation=270)\n",
    "plt.xlabel(\"Zip Codes\")\n",
    "plt.ylabel(\"Change in Vacant Buildings (%)\")\n",
    "plt.title(\"Percent Change in Vacant Buildings by Zip Code from 2015-2018\")\n",
    "\n",
    "plt.bar(x, vac_per_chg, 1, color=\"blue\", edgecolor=\"black\")"
   ]
  },
  {
   "cell_type": "code",
   "execution_count": 58,
   "metadata": {},
   "outputs": [
    {
     "data": {
      "text/plain": [
       "<BarContainer object of 29 artists>"
      ]
     },
     "execution_count": 58,
     "metadata": {},
     "output_type": "execute_result"
    },
    {
     "data": {
      "image/png": "[encoded data removed]",
      "text/plain": [
       "<Figure size 432x288 with 1 Axes>"
      ]
     },
     "metadata": {
      "needs_background": "light"
     },
     "output_type": "display_data"
    }
   ],
   "source": [
    "val_per_chg = (totVal_df_2018-totVal_df_2015)/totVal_df_2015*100\n",
    "val_per_chg = val_per_chg.fillna(0)\n",
    "\n",
    "plt.xticks(x, uniq_zip)\n",
    "plt.xticks(x, rotation=270)\n",
    "plt.xlabel(\"Zip Codes\")\n",
    "plt.ylabel(\"Change in Property Tax Value (%)\")\n",
    "plt.title(\"Percent Change in Property Tax Value by Zip Code from 2015-2018\")\n",
    "\n",
    "plt.bar(x, val_per_chg, 1, color=\"blue\", edgecolor=\"black\")"
   ]
  },
  {
   "cell_type": "code",
   "execution_count": 68,
   "metadata": {},
   "outputs": [
    {
     "data": {
      "image/png": "[encoded data removed]",
      "text/plain": [
       "<Figure size 432x288 with 1 Axes>"
      ]
     },
     "metadata": {},
     "output_type": "display_data"
    }
   ],
   "source": [
    "grp_df_2018 = df_2018.groupby([\"ZIP\"])\n",
    "vac_true_2018 = grp_df_2018.apply(lambda x: (x != False).sum())['VacantLot']\n",
    "tot_true_2018 = vac_true_2018.sum()\n",
    "vac_false_2018 = grp_df_2018.apply(lambda x: (x != True).sum())['VacantLot']\n",
    "tot_false_2018 = vac_false_2018.sum()\n",
    "vac_total = [tot_true_2018 , tot_false_2018]\n",
    "\n",
    "# Build Pie Chart\n",
    "# Labels for the sections of our pie chart\n",
    "labels = [\"Vacant\",\"Not Vacant\"]\n",
    "\n",
    "# The colors of each section of the pie chart\n",
    "colors = [\"gold\", \"lightskyblue\"]\n",
    "\n",
    "# Tells matplotlib to seperate the \"Python\" section from the others\n",
    "explode = (0, 0.25)\n",
    "\n",
    "plt.title(\"2018 Percent Vacancies\")\n",
    "plt.pie(vac_total, explode=explode, labels=labels, autopct='%.2f', colors=colors, wedgeprops={\"edgecolor\":\"black\",'linewidth': .5})\n",
    "\n",
    "plt.show()"
   ]
  },
  {
   "cell_type": "code",
   "execution_count": 69,
   "metadata": {},
   "outputs": [
    {
     "data": {
      "image/png": "[encoded data removed]",
      "text/plain": [
       "<Figure size 432x288 with 1 Axes>"
      ]
     },
     "metadata": {},
     "output_type": "display_data"
    }
   ],
   "source": [
    "grp_df_2015 = df_2015.groupby([\"ZIP\"])\n",
    "vac_true_2015 = grp_df_2015.apply(lambda x: (x != False).sum())['VacantLot']\n",
    "tot_true_2015 = vac_true_2015.sum()\n",
    "vac_false_2015 = grp_df_2015.apply(lambda x: (x != True).sum())['VacantLot']\n",
    "tot_false_2015 = vac_false_2015.sum()\n",
    "vac_total = [tot_true_2015 , tot_false_2015]\n",
    "\n",
    "# Build Pie Chart\n",
    "# Labels for the sections of our pie chart\n",
    "labels = [\"Vacant\",\"Not Vacant\"]\n",
    "\n",
    "# The colors of each section of the pie chart\n",
    "colors = [\"gold\", \"lightskyblue\"]\n",
    "\n",
    "# Tells matplotlib to seperate the \"Python\" section from the others\n",
    "explode = (0, 0.25)\n",
    "\n",
    "plt.title(\"2015 Percent Vacancies\")\n",
    "plt.pie(vac_total, explode=explode, labels=labels, autopct='%.2f', colors=colors, wedgeprops={\"edgecolor\":\"black\",'linewidth': .5})\n",
    "\n",
    "plt.show()"
   ]
  }
 ],
 "metadata": {
  "kernelspec": {
   "display_name": "Python 3",
   "language": "python",
   "name": "python3"
  }
 },
 "nbformat": 4,
 "nbformat_minor": 2
}
